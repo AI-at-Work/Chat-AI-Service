{
 "cells": [
  {
   "cell_type": "code",
   "execution_count": null,
   "id": "initial_id",
   "metadata": {
    "collapsed": true
   },
   "outputs": [],
   "source": [
    ""
   ]
  },
  {
   "metadata": {},
   "cell_type": "code",
   "outputs": [],
   "execution_count": null,
   "source": [
    "from langchain.memory import ConversationBufferMemory\n",
    "from langchain.memory.chat_message_histories import RedisChatMessageHistory\n",
    "from langchain.llms import OpenAI\n",
    "from langchain.chains import ConversationChain\n",
    "\n",
    "# Initialize the RedisChatMessageHistory\n",
    "message_history = RedisChatMessageHistory(\n",
    "    url=\"redis://localhost:6379/0\", # Your Redis database URL\n",
    "    ttl=600,                        # Time to live for the messages in the database\n",
    "    session_id=\"your_session_id\",   # Identifies your user or a user's session\n",
    ")\n",
    "\n",
    "# Initialize the ConversationBufferMemory\n",
    "memory = ConversationBufferMemory(\n",
    "    memory_key=\"history\",          # Ensure this matches the key used in chain's prompt template\n",
    "    chat_memory=message_history,   # Pass the RedisChatMessageHistory instance\n",
    "    return_messages=True,          # Does your prompt template expect a string or a list of Messages?\n",
    ")\n",
    "\n",
    "# Initialize the language model\n",
    "llm = OpenAI(temperature=0.5)\n",
    "\n",
    "# Initialize the ConversationChain with the memory and language model\n",
    "conversation = ConversationChain(\n",
    "    llm=llm,\n",
    "    verbose=True,\n",
    "    memory=memory\n",
    ")\n",
    "\n",
    "# Now you can use the predict method to generate responses\n",
    "response = conversation.predict(input=\"Hi there!\")\n",
    "print(response)"
   ],
   "id": "ac30e2614588424d"
  }
 ],
 "metadata": {
  "kernelspec": {
   "display_name": "Python 3",
   "language": "python",
   "name": "python3"
  },
  "language_info": {
   "codemirror_mode": {
    "name": "ipython",
    "version": 2
   },
   "file_extension": ".py",
   "mimetype": "text/x-python",
   "name": "python",
   "nbconvert_exporter": "python",
   "pygments_lexer": "ipython2",
   "version": "2.7.6"
  }
 },
 "nbformat": 4,
 "nbformat_minor": 5
}
